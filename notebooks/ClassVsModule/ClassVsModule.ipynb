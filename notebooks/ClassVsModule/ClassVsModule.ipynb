{
 "cells": [
  {
   "cell_type": "markdown",
   "id": "35f39858",
   "metadata": {},
   "source": [
    "# Classes Vs Modules\n",
    "\n",
    "link to reference - https://www.geeksforgeeks.org/accessing-attributes-methods-python/\n",
    "\n",
    "Classes in python are templates for creating objects.\n",
    "\n",
    "Modules are python programs that can be imported into another python program. Importing a module enables the usage of the module’s functions and variables into another program."
   ]
  },
  {
   "cell_type": "markdown",
   "id": "52505e20",
   "metadata": {},
   "source": [
    "## Classes\n",
    "Classes in python act as a blueprint based on which objects are created\n"
   ]
  },
  {
   "cell_type": "markdown",
   "id": "51f773f0",
   "metadata": {},
   "source": [
    "## Attributes\n",
    "Attributes of a class are function objects that define corresponding methods of its instances. They are used to implement access controls of the classes.\n",
    "Attributes of a class can also be accessed using the following built-in methods and functions :\n",
    "\n",
    "* getattr() – This function is used to access the attribute of object.\n",
    "* hasattr() – This function is used to check if an attribute exist or not.\n",
    "* setattr() – This function is used to set an attribute. If the attribute does not exist, then it would be created.\n",
    "* delattr() – This function is used to delete an attribute. If you are accessing the attribute after deleting it raises error “class has no attribute”."
   ]
  },
  {
   "cell_type": "code",
   "execution_count": 3,
   "id": "329acace",
   "metadata": {},
   "outputs": [
    {
     "name": "stdout",
     "output_type": "stream",
     "text": [
      "Harsh\n",
      "True\n",
      "152\n"
     ]
    }
   ],
   "source": [
    "# Python code for accessing attributes of class \n",
    "class emp: \n",
    "    name='Harsh'\n",
    "    salary='25000'\n",
    "    def show(self): \n",
    "        print (self.name) \n",
    "        print (self.salary) \n",
    "e1 = emp() \n",
    "# Use getattr instead of e1.name \n",
    "print (getattr(e1,'name')) \n",
    "  \n",
    "# returns true if object has attribute \n",
    "print (hasattr(e1,'name')) \n",
    "  \n",
    "# sets an attribute \n",
    "setattr(e1,'height',152) \n",
    "  \n",
    "# returns the value of attribute name height \n",
    "print (getattr(e1,'height')) \n",
    "  \n",
    "# delete the attribute \n",
    "delattr(emp,'salary') \n",
    "\n",
    " # print (getattr(e1,'salary')) \n"
   ]
  },
  {
   "cell_type": "markdown",
   "id": "7ab77070",
   "metadata": {},
   "source": [
    "## Static methods \n",
    "A static method is a method[member function] that don’t use argument self at all. To declare a static method, proceed it with the statement “@staticmethod”."
   ]
  },
  {
   "cell_type": "code",
   "execution_count": 4,
   "id": "b7c39646",
   "metadata": {},
   "outputs": [
    {
     "name": "stdout",
     "output_type": "stream",
     "text": [
      "4\n",
      "9\n",
      "9\n"
     ]
    }
   ],
   "source": [
    "# Python code for accessing methods using static method \n",
    "class test: \n",
    "    @staticmethod\n",
    "    def square(x): \n",
    "        test.result = x*x \n",
    "  \n",
    "# object 1 for class \n",
    "t1=test() \n",
    "  \n",
    "# object 2 for class \n",
    "t2 = test() \n",
    "t1.square(2) \n",
    "  \n",
    "# printing result for square(2) \n",
    "print (t1.result) \n",
    "t2.square(3) \n",
    "  \n",
    "# printing result for square(3) \n",
    "print (t2.result) \n",
    "  \n",
    "# printing the last value of result as we declared the method static \n",
    "print (t1.result) "
   ]
  },
  {
   "cell_type": "markdown",
   "id": "1b4af3c9",
   "metadata": {},
   "source": [
    "## Accessing attributes and methods of one class in another class\n",
    "\n",
    "passing the object of one class to another.\n"
   ]
  },
  {
   "cell_type": "code",
   "execution_count": 5,
   "id": "6e48cc59",
   "metadata": {},
   "outputs": [
    {
     "name": "stdout",
     "output_type": "stream",
     "text": [
      "3\n",
      "3\n",
      "2\n"
     ]
    }
   ],
   "source": [
    "# Python code for Accessing attributes and methods \n",
    "# of one class in another class \n",
    "  \n",
    "class ClassA(): \n",
    "    def __init__(self): \n",
    "        self.var1 = 1\n",
    "        self.var2 = 2\n",
    "  \n",
    "    def methodA(self): \n",
    "        self.var1 = self.var1 + self.var2 \n",
    "        return self.var1 \n",
    "  \n",
    "class ClassB(ClassA): \n",
    "    def __init__(self, class_a): \n",
    "        self.var1 = class_a.var1 \n",
    "        self.var2 = class_a.var2 \n",
    "  \n",
    "object1 = ClassA() \n",
    "# updates the value of var1 \n",
    "summ = object1.methodA() \n",
    "  \n",
    "# return the value of var1 \n",
    "print (summ) \n",
    "  \n",
    "# passes object of classA \n",
    "object2 = ClassB(object1) \n",
    "  \n",
    "# return the values carried by var1,var2 \n",
    "print( object2.var1)\n",
    "print (object2.var2)"
   ]
  },
  {
   "cell_type": "markdown",
   "id": "02bd5507",
   "metadata": {},
   "source": [
    "# Global and Local Variables\n",
    "Global variables are those which are not defined inside any function and have a global scope whereas local variables are those which are defined inside a function and its scope is limited to that function only.\n",
    "\n",
    "## Local Variables\n",
    "Local variables are those which are initialized inside a function and belongs only to that particular function. It cannot be accessed anywhere outside the function.\n",
    "\n",
    "## Global Variables\n",
    "The global variables are those which are defined outside any function and which are accessible throughout the program i.e. inside and outside of every function"
   ]
  },
  {
   "cell_type": "code",
   "execution_count": 6,
   "id": "3123dc94",
   "metadata": {},
   "outputs": [
    {
     "name": "stdout",
     "output_type": "stream",
     "text": [
      "Me too.\n",
      "I love Geeksforgeeks\n"
     ]
    }
   ],
   "source": [
    "# This function has a variable with\n",
    "# name same as s.\n",
    "def f():\n",
    "    s = \"Me too.\"\n",
    "    print(s)\n",
    " \n",
    "# Global scope\n",
    "s = \"I love Geeksforgeeks\"\n",
    "f()\n",
    "print(s)"
   ]
  },
  {
   "cell_type": "markdown",
   "id": "35013e30",
   "metadata": {},
   "source": [
    "### Global Keyword\n",
    "We only need to use the global keyword in a function if we want to do assignments or change the global variable. global is not needed for printing and accessing"
   ]
  },
  {
   "cell_type": "markdown",
   "id": "5f803bcb",
   "metadata": {},
   "source": [
    "## Modules\n",
    "Modules in Python are files with a .py extension using which we can reuse elements inside that file. When we create a python program, the program may contain inside it functions, variables, and even classes.\n",
    "\n",
    "### How to Access a module?\n",
    "Python consists of several built-in modules such as math, os, random, CSV, etc.\n",
    "Simply import those functionalities by using the import statement."
   ]
  },
  {
   "cell_type": "markdown",
   "id": "02215fbc",
   "metadata": {},
   "source": [
    "## Descriptors\n",
    "\n",
    "are Python objects that implement a method of the descriptor protocol, which gives you the ability to create objects that have special behavior when they're accessed as attributes of other objects.\n"
   ]
  }
 ],
 "metadata": {
  "kernelspec": {
   "display_name": "Python 3 (ipykernel)",
   "language": "python",
   "name": "python3"
  },
  "language_info": {
   "codemirror_mode": {
    "name": "ipython",
    "version": 3
   },
   "file_extension": ".py",
   "mimetype": "text/x-python",
   "name": "python",
   "nbconvert_exporter": "python",
   "pygments_lexer": "ipython3",
   "version": "3.7.10"
  }
 },
 "nbformat": 4,
 "nbformat_minor": 5
}
