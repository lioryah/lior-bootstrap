{
 "cells": [
  {
   "cell_type": "code",
   "execution_count": 2,
   "id": "f12162ca-e0eb-410b-be9d-581b0554f1de",
   "metadata": {},
   "outputs": [],
   "source": [
    "from pathlib import Path "
   ]
  },
  {
   "cell_type": "code",
   "execution_count": 3,
   "id": "be9a3e55-77c7-4674-8f5d-cc4f5ecc4bfb",
   "metadata": {},
   "outputs": [],
   "source": [
    "x = Path(\".\")"
   ]
  },
  {
   "cell_type": "code",
   "execution_count": 4,
   "id": "76d735de-caed-4692-86cc-e19aaba0563d",
   "metadata": {},
   "outputs": [
    {
     "data": {
      "text/plain": [
       "[PosixPath('.git'),\n",
       " PosixPath('.gitignore'),\n",
       " PosixPath('.ipynb_checkpoints'),\n",
       " PosixPath('deps.setup.conda-env.exe.yml'),\n",
       " PosixPath('hi.py'),\n",
       " PosixPath('LICENSE'),\n",
       " PosixPath('README.md'),\n",
       " PosixPath('Taskfile.yml'),\n",
       " PosixPath('Untitled.ipynb')]"
      ]
     },
     "execution_count": 4,
     "metadata": {},
     "output_type": "execute_result"
    }
   ],
   "source": [
    "list(x.iterdir())"
   ]
  },
  {
   "cell_type": "code",
   "execution_count": 5,
   "id": "5b81bc1b-699a-4ed0-a170-a8ba56bd36d8",
   "metadata": {},
   "outputs": [],
   "source": [
    "text = Path(\"hi.py\").read_text()"
   ]
  },
  {
   "cell_type": "code",
   "execution_count": 6,
   "id": "a957c443-e1f1-45ee-8e04-a9b7e5a96e87",
   "metadata": {},
   "outputs": [
    {
     "data": {
      "text/plain": [
       "\"print('hello world')\\nx = 5\\nx = x + x\\nprint(x)\\n\\n\""
      ]
     },
     "execution_count": 6,
     "metadata": {},
     "output_type": "execute_result"
    }
   ],
   "source": [
    "text"
   ]
  },
  {
   "cell_type": "code",
   "execution_count": 7,
   "id": "0656e66a-9bbd-42f1-bafb-7ae319fea163",
   "metadata": {
    "tags": []
   },
   "outputs": [
    {
     "name": "stdout",
     "output_type": "stream",
     "text": [
      "print('hello world')\n",
      "x = 5\n",
      "x = x + x\n",
      "print(x)\n",
      "\n",
      "\n"
     ]
    }
   ],
   "source": [
    "print(text)"
   ]
  },
  {
   "cell_type": "code",
   "execution_count": null,
   "id": "f77e7e59-2335-4b6d-9a96-f8e27de2e056",
   "metadata": {},
   "outputs": [],
   "source": []
  }
 ],
 "metadata": {
  "kernelspec": {
   "display_name": "Python [conda env:local-ci-config-cenv] *",
   "language": "python",
   "name": "conda-env-local-ci-config-cenv-py"
  },
  "language_info": {
   "codemirror_mode": {
    "name": "ipython",
    "version": 3
   },
   "file_extension": ".py",
   "mimetype": "text/x-python",
   "name": "python",
   "nbconvert_exporter": "python",
   "pygments_lexer": "ipython3",
   "version": "3.7.10"
  }
 },
 "nbformat": 4,
 "nbformat_minor": 5
}
