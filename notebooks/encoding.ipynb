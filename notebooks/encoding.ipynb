{
 "cells": [
  {
   "cell_type": "markdown",
   "id": "4aaf9ca9",
   "metadata": {},
   "source": [
    "# Encoding\n",
    "\n",
    "[Link to reference](https://www.techopedia.com/definition/948/encoding)\n",
    "\n",
    "Encoding is the process of converting data into a format required for a number of information processing needs, including:\n",
    "\n",
    "* Program compiling and execution\n",
    "* Data transmission, storage and compression/decompression\n",
    "* Application data processing, such as file conversion\n",
    "\n",
    "encoding is the process of applying a specific code, such as letters, symbols and numbers, to data for conversion into an equivalent cipher.\n",
    "\n",
    "### String Encoding\n",
    "\n",
    "Since Python 3.0, strings are stored as Unicode, i.e. each character in the string is represented by a code point. So, each string is just a sequence of Unicode code points.\n",
    "\n",
    "For efficient storage of these strings, the sequence of code points is converted into a set of bytes. The process is known as encoding.\n"
   ]
  },
  {
   "cell_type": "markdown",
   "id": "8e30d721",
   "metadata": {},
   "source": [
    "## ASCII\n",
    "\n",
    "American Standard Code for Information Interchange\n",
    "\n",
    "The standard ASCII scheme has only zero to 127 character positions; 128 through 255 are undefined."
   ]
  },
  {
   "cell_type": "markdown",
   "id": "f6ab536d",
   "metadata": {},
   "source": [
    "## Unicode\n",
    "\n",
    "[Link to reference](https://flaviocopes.com/unicode/)\n",
    "\n",
    "Unicode is a universal character encoding standard that assigns a code to every character and symbol in every language in the world. Since no other encoding standard supports all languages, Unicode is the only encoding standard that ensures that you can retrieve or combine data using any combination of languages.\n",
    "\n",
    "### UTF-8\n",
    "\n",
    "UTF-8 is a variable width character encoding, and it can encode every character covered by Unicode, using from 1 to 4 8-bit bytes.\n",
    "\n",
    " If the letter A in ASCII was represented with the number 65, using UTF-8 it’s encoded as U+0041."
   ]
  },
  {
   "cell_type": "code",
   "execution_count": 1,
   "id": "f7b3ac45",
   "metadata": {},
   "outputs": [
    {
     "data": {
      "text/plain": [
       "bytes"
      ]
     },
     "execution_count": 1,
     "metadata": {},
     "output_type": "execute_result"
    }
   ],
   "source": [
    "title = 'Python Programming'\n",
    "\n",
    "# The syntax of encode() method is:\n",
    "type(title.encode(encoding='UTF-8',errors='strict'))"
   ]
  },
  {
   "cell_type": "code",
   "execution_count": 2,
   "id": "d08a6ac6",
   "metadata": {},
   "outputs": [
    {
     "name": "stdout",
     "output_type": "stream",
     "text": [
      "The string is: pythön!\n",
      "The encoded version is: b'pyth\\xc3\\xb6n!'\n"
     ]
    }
   ],
   "source": [
    "# unicode string\n",
    "string = 'pythön!'\n",
    "\n",
    "# print string\n",
    "print('The string is:', string)\n",
    "type(string)\n",
    "\n",
    "# default encoding to utf-8\n",
    "string_utf = string.encode()\n",
    "type(string_utf)\n",
    "\n",
    "# print result\n",
    "print('The encoded version is:', string_utf)"
   ]
  },
  {
   "cell_type": "code",
   "execution_count": 3,
   "id": "712174ad",
   "metadata": {},
   "outputs": [
    {
     "name": "stdout",
     "output_type": "stream",
     "text": [
      "The encoded version (with ignore) is: b'pythn!'\n",
      "The encoded version (with replace) is: b'pyth?n!' \n",
      "\n"
     ]
    }
   ],
   "source": [
    "# ignore error\n",
    "print('The encoded version (with ignore) is:', string.encode(\"ascii\", \"ignore\"))\n",
    "\n",
    "# replace error\n",
    "print('The encoded version (with replace) is:', string.encode(\"ascii\", \"replace\"), '\\n')"
   ]
  },
  {
   "cell_type": "code",
   "execution_count": 4,
   "id": "81731b21",
   "metadata": {},
   "outputs": [
    {
     "name": "stdout",
     "output_type": "stream",
     "text": [
      "The decoded version is: pythön!\n"
     ]
    }
   ],
   "source": [
    "# print decoded string from utf-8\n",
    "print('The decoded version is:', string_utf.decode())"
   ]
  },
  {
   "cell_type": "code",
   "execution_count": 5,
   "id": "60726b15",
   "metadata": {},
   "outputs": [
    {
     "name": "stdout",
     "output_type": "stream",
     "text": [
      "The encoded version to utf-16 is: b'\\xff\\xfep\\x00y\\x00t\\x00h\\x00\\xf6\\x00n\\x00!\\x00'\n"
     ]
    }
   ],
   "source": [
    "# default encoding to utf-16\n",
    "string_utf16 = string.encode(\"utf-16\")\n",
    "print('The encoded version to utf-16 is:', string_utf16)"
   ]
  },
  {
   "cell_type": "code",
   "execution_count": null,
   "id": "e5783a83",
   "metadata": {},
   "outputs": [],
   "source": []
  }
 ],
 "metadata": {
  "kernelspec": {
   "display_name": "Python [conda env:local-ci-config-cenv] *",
   "language": "python",
   "name": "conda-env-local-ci-config-cenv-py"
  },
  "language_info": {
   "codemirror_mode": {
    "name": "ipython",
    "version": 3
   },
   "file_extension": ".py",
   "mimetype": "text/x-python",
   "name": "python",
   "nbconvert_exporter": "python",
   "pygments_lexer": "ipython3",
   "version": "3.7.10"
  }
 },
 "nbformat": 4,
 "nbformat_minor": 5
}
