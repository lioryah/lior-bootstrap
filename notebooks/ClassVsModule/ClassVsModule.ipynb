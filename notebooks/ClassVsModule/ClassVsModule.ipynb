{
 "cells": [
  {
   "cell_type": "markdown",
   "id": "35f39858",
   "metadata": {},
   "source": [
    "# Classes Vs Modules\n",
    "\n",
    "link to reference - https://www.geeksforgeeks.org/accessing-attributes-methods-python/\n",
    "link to reference - https://data-flair.training/blogs/python-multiple-inheritance/\n",
    "\n",
    "Classes in python are templates for creating objects.\n",
    "\n",
    "Modules are python programs that can be imported into another python program. Importing a module enables the usage of the module’s functions and variables into another program."
   ]
  },
  {
   "cell_type": "code",
   "execution_count": null,
   "metadata": {},
   "outputs": [],
   "source": []
  },
  {
   "cell_type": "markdown",
   "id": "52505e20",
   "metadata": {},
   "source": [
    "## Classes\n",
    "Classes in python act as a blueprint based on which objects are created\n"
   ]
  },
  {
   "cell_type": "markdown",
   "id": "51f773f0",
   "metadata": {},
   "source": [
    "## Attributes\n",
    "Attributes of a class are function objects that define corresponding methods of its instances. They are used to implement access controls of the classes.\n",
    "Attributes of a class can also be accessed using the following built-in methods and functions :\n",
    "\n",
    "* getattr() – This function is used to access the attribute of object.\n",
    "* hasattr() – This function is used to check if an attribute exist or not.\n",
    "* setattr() – This function is used to set an attribute. If the attribute does not exist, then it would be created.\n",
    "* delattr() – This function is used to delete an attribute. If you are accessing the attribute after deleting it raises error “class has no attribute”."
   ]
  },
  {
   "cell_type": "code",
   "execution_count": 3,
   "id": "329acace",
   "metadata": {},
   "outputs": [
    {
     "name": "stdout",
     "output_type": "stream",
     "text": [
      "Harsh\n",
      "True\n",
      "152\n"
     ]
    }
   ],
   "source": [
    "# Python code for accessing attributes of class \n",
    "class emp: \n",
    "    name='Harsh'\n",
    "    salary='25000'\n",
    "    def show(self): \n",
    "        print (self.name) \n",
    "        print (self.salary) \n",
    "e1 = emp() \n",
    "# Use getattr instead of e1.name \n",
    "print (getattr(e1,'name')) \n",
    "  \n",
    "# returns true if object has attribute \n",
    "print (hasattr(e1,'name')) \n",
    "  \n",
    "# sets an attribute \n",
    "setattr(e1,'height',152) \n",
    "  \n",
    "# returns the value of attribute name height \n",
    "print (getattr(e1,'height')) \n",
    "  \n",
    "# delete the attribute \n",
    "delattr(emp,'salary') \n",
    "\n",
    " # print (getattr(e1,'salary')) \n"
   ]
  },
  {
   "cell_type": "markdown",
   "id": "7ab77070",
   "metadata": {},
   "source": [
    "## Static methods \n",
    "A static method is a method[member function] that don’t use argument self at all. To declare a static method, proceed it with the statement “@staticmethod”."
   ]
  },
  {
   "cell_type": "code",
   "execution_count": 4,
   "id": "b7c39646",
   "metadata": {},
   "outputs": [
    {
     "name": "stdout",
     "output_type": "stream",
     "text": [
      "4\n",
      "9\n",
      "9\n"
     ]
    }
   ],
   "source": [
    "# Python code for accessing methods using static method \n",
    "class test: \n",
    "    @staticmethod\n",
    "    def square(x): \n",
    "        test.result = x*x \n",
    "  \n",
    "# object 1 for class \n",
    "t1=test() \n",
    "  \n",
    "# object 2 for class \n",
    "t2 = test() \n",
    "t1.square(2) \n",
    "  \n",
    "# printing result for square(2) \n",
    "print (t1.result) \n",
    "t2.square(3) \n",
    "  \n",
    "# printing result for square(3) \n",
    "print (t2.result) \n",
    "  \n",
    "# printing the last value of result as we declared the method static \n",
    "print (t1.result) "
   ]
  },
  {
   "cell_type": "markdown",
   "id": "5f803bcb",
   "metadata": {},
   "source": [
    "## Modules\n",
    "Modules in Python are files with a .py extension using which we can reuse elements inside that file. When we create a python program, the program may contain inside it functions, variables, and even classes.\n",
    "\n",
    "### How to Access a module?\n",
    "Python consists of several built-in modules such as math, os, random, CSV, etc.\n",
    "Simply import those functionalities by using the import statement."
   ]
  },
  {
   "cell_type": "markdown",
   "id": "02215fbc",
   "metadata": {},
   "source": [
    "## Descriptors\n",
    "\n",
    "Descriptors are Python objects that implement a method of the descriptor protocol, which gives you the ability to create objects that have special behavior when they're accessed as attributes of other objects.\n"
   ]
  }
 ],
 "metadata": {
  "kernelspec": {
   "display_name": "Python 3 (ipykernel)",
   "language": "python",
   "name": "python3"
  },
  "language_info": {
   "codemirror_mode": {
    "name": "ipython",
    "version": 3
   },
   "file_extension": ".py",
   "mimetype": "text/x-python",
   "name": "python",
   "nbconvert_exporter": "python",
   "pygments_lexer": "ipython3",
   "version": "3.7.10"
  }
 },
 "nbformat": 4,
 "nbformat_minor": 5
}
