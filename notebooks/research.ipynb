{
 "cells": [
  {
   "cell_type": "code",
   "execution_count": 2,
   "id": "f12162ca-e0eb-410b-be9d-581b0554f1de",
   "metadata": {},
   "outputs": [],
   "source": [
    "from pathlib import Path \n",
    "x = Path(\".\")"
   ]
  },
  {
   "cell_type": "code",
   "execution_count": 3,
   "id": "76d735de-caed-4692-86cc-e19aaba0563d",
   "metadata": {},
   "outputs": [
    {
     "data": {
      "text/plain": [
       "[PosixPath('.ipynb_checkpoints'),\n",
       " PosixPath('bfs.md'),\n",
       " PosixPath('ClassVsModule'),\n",
       " PosixPath('encoding.ipynb'),\n",
       " PosixPath('JupyterTutorial'),\n",
       " PosixPath('mro_examples.py'),\n",
       " PosixPath('mro_intro.md'),\n",
       " PosixPath('PythonTutorial'),\n",
       " PosixPath('research.ipynb')]"
      ]
     },
     "execution_count": 3,
     "metadata": {},
     "output_type": "execute_result"
    }
   ],
   "source": [
    "list(x.iterdir())"
   ]
  },
  {
   "cell_type": "code",
   "execution_count": 12,
   "id": "5b81bc1b-699a-4ed0-a170-a8ba56bd36d8",
   "metadata": {},
   "outputs": [],
   "source": [
    "text = Path(\"research.py\").read_text()"
   ]
  },
  {
   "cell_type": "code",
   "execution_count": 13,
   "id": "a957c443-e1f1-45ee-8e04-a9b7e5a96e87",
   "metadata": {},
   "outputs": [
    {
     "data": {
      "text/plain": [
       "\"'''\\nclass supplier():\\n    level = 1\\n\\nclass distributor():\\n    level = 1\\n\\nclass shop_warehouse(supplier, distributor):\\n    level = 2\\n\\nclass shop_dispatch(shop_warehouse):\\n    level = 3\\n\\nclass shelf(shop_dispatch, distributor):\\n    level = 3\\n\\nprint(shelf.level)\\n'''\\n\\nprint('hello world')\\nx = 5\\nx = x + x\\nprint(x)\\n\""
      ]
     },
     "execution_count": 13,
     "metadata": {},
     "output_type": "execute_result"
    }
   ],
   "source": [
    "text"
   ]
  },
  {
   "cell_type": "code",
   "execution_count": 14,
   "id": "0656e66a-9bbd-42f1-bafb-7ae319fea163",
   "metadata": {
    "tags": []
   },
   "outputs": [
    {
     "name": "stdout",
     "output_type": "stream",
     "text": [
      "'''\n",
      "class supplier():\n",
      "    level = 1\n",
      "\n",
      "class distributor():\n",
      "    level = 1\n",
      "\n",
      "class shop_warehouse(supplier, distributor):\n",
      "    level = 2\n",
      "\n",
      "class shop_dispatch(shop_warehouse):\n",
      "    level = 3\n",
      "\n",
      "class shelf(shop_dispatch, distributor):\n",
      "    level = 3\n",
      "\n",
      "print(shelf.level)\n",
      "'''\n",
      "\n",
      "print('hello world')\n",
      "x = 5\n",
      "x = x + x\n",
      "print(x)\n",
      "\n"
     ]
    }
   ],
   "source": [
    "print(text)"
   ]
  },
  {
   "cell_type": "code",
   "execution_count": null,
   "id": "dedd1d9b",
   "metadata": {},
   "outputs": [],
   "source": []
  }
 ],
 "metadata": {
  "interpreter": {
   "hash": "e78523dea97e014563589749c96ae7249b731b14d0673593d10b7dbf99a3ba4c"
  },
  "kernelspec": {
   "display_name": "Python 3 (ipykernel)",
   "language": "python",
   "name": "python3"
  },
  "language_info": {
   "codemirror_mode": {
    "name": "ipython",
    "version": 3
   },
   "file_extension": ".py",
   "mimetype": "text/x-python",
   "name": "python",
   "nbconvert_exporter": "python",
   "pygments_lexer": "ipython3",
   "version": "3.7.10"
  }
 },
 "nbformat": 4,
 "nbformat_minor": 5
}
