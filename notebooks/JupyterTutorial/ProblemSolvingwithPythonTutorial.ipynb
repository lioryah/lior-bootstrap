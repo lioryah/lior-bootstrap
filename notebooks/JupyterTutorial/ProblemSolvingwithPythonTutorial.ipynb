{
 "cells": [
  {
   "cell_type": "markdown",
   "id": "05e0321c",
   "metadata": {},
   "source": [
    "# Chapter 2 - jupyter notebooks"
   ]
  },
  {
   "cell_type": "markdown",
   "id": "6d11bb07",
   "metadata": {},
   "source": [
    "### Magic Commands\n",
    "\n",
    "%load file.py  \n",
    "%run file.py  \n",
    "\n",
    "%pwd - Print the current working directory  \n",
    "%cd - Change the current working directory  \n",
    "%ls\t- List the contents of the current directory  \n",
    "%history - Show the history of the In [ ]: commands  "
   ]
  },
  {
   "cell_type": "markdown",
   "id": "fdf56a4d",
   "metadata": {},
   "source": [
    "# Chapter 3 - REPL"
   ]
  },
  {
   "cell_type": "markdown",
   "id": "3e06c96e",
   "metadata": {},
   "source": [
    "Read Evaluate Print Loop\n",
    "\n",
    "Commands typed into the Python REPL are read by the interpreter, results of running the commands are evaluated, then printed to the command window. After the output is printed, the >>> prompt appears on a new line. This process repeats over and over again in a continuous loop.\n",
    "\n",
    "We can use the answer, which Python saves as an underscore _ to use in our next operation. (The underscore _ in Python is comparable to the ans variable in MATLAB)\n",
    "\n"
   ]
  },
  {
   "cell_type": "markdown",
   "id": "8b9324e3",
   "metadata": {},
   "source": [
    "# Chapter 4  - data types and variables"
   ]
  },
  {
   "cell_type": "code",
   "execution_count": null,
   "id": "3a98aac8",
   "metadata": {},
   "outputs": [],
   "source": []
  }
 ],
 "metadata": {
  "interpreter": {
   "hash": "e78523dea97e014563589749c96ae7249b731b14d0673593d10b7dbf99a3ba4c"
  },
  "kernelspec": {
   "display_name": "Python 3 (ipykernel)",
   "language": "python",
   "name": "python3"
  },
  "language_info": {
   "codemirror_mode": {
    "name": "ipython",
    "version": 3
   },
   "file_extension": ".py",
   "mimetype": "text/x-python",
   "name": "python",
   "nbconvert_exporter": "python",
   "pygments_lexer": "ipython3",
   "version": "3.7.10"
  }
 },
 "nbformat": 4,
 "nbformat_minor": 5
}
